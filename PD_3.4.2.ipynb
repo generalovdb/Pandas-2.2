{
 "cells": [
  {
   "cell_type": "code",
   "execution_count": 181,
   "id": "251bb55a-4348-4321-8029-6402ed2e11e4",
   "metadata": {},
   "outputs": [],
   "source": [
    "import numpy as np\n",
    "import pandas as pd"
   ]
  },
  {
   "cell_type": "code",
   "execution_count": 182,
   "id": "ce626674-dc66-4fcc-a6ab-e803e178fa37",
   "metadata": {},
   "outputs": [],
   "source": [
    "# создадим два нампаевских массива с предсказанными и фактическими значениями\n",
    "y     = np.array([0,0,1,1,1,1,0,0,0,1,1,0,0,1,1])\n",
    "preds = np.array([1,0,1,0,1,1,0,1,0,1,1,0,0,1,0])"
   ]
  },
  {
   "cell_type": "code",
   "execution_count": 271,
   "id": "017e9b55-02ce-4ac3-a3d0-325b9c86aea1",
   "metadata": {},
   "outputs": [],
   "source": [
    "# функция для создания матрицы сопряженности\n",
    "# def conf_matrix (y, preds):\n",
    "#     cm = np.vstack((y, preds))\n",
    "#     cm=pd.DataFrame(cm).transpose()\n",
    "#     cm=cm.rename(columns={0:'True',1:'Preds'})\n",
    "#     cm=pd.crosstab(cm['True'],cm['Preds'])\n",
    "#     return cm"
   ]
  },
  {
   "cell_type": "code",
   "execution_count": 311,
   "id": "64238c6a-bf7c-42bd-ac98-8d22ac6ef306",
   "metadata": {},
   "outputs": [],
   "source": [
    "def conf_matrix(y, y_pred):\n",
    "    cm = np.zeros((2, 2))\n",
    "    for i in range(len(y)): \n",
    "        if y[i] == y_pred[i] == 1: # TP\n",
    "            cm[0][0] += 1\n",
    "        elif y[i] == y_pred[i] == 0: # TN\n",
    "            cm[1][1] += 1\n",
    "        elif y[i] != y_pred[i] and y[i] == 1: # FN\n",
    "            cm[1][0] += 1\n",
    "        elif y[i] != y_pred[i] and y[i] == 0: # FP\n",
    "            cm[0][1] += 1\n",
    "    return cm"
   ]
  },
  {
   "cell_type": "code",
   "execution_count": 312,
   "id": "b3201a0b-2c79-4352-808c-4a920cd6a6b3",
   "metadata": {},
   "outputs": [
    {
     "data": {
      "text/plain": [
       "array([[6., 2.],\n",
       "       [2., 5.]])"
      ]
     },
     "execution_count": 312,
     "metadata": {},
     "output_type": "execute_result"
    }
   ],
   "source": [
    "# и создаем таблицу сопряженности\n",
    "conf_matrix (y,preds)"
   ]
  },
  {
   "cell_type": "code",
   "execution_count": 323,
   "id": "d5bd490a-8b4a-42cd-93fc-c64ddce0671b",
   "metadata": {},
   "outputs": [],
   "source": [
    "# функция подсчета accuracy\n",
    "def accuracy (y_,preds_):\n",
    "    cm = conf_matrix (y_,preds_)\n",
    "    TP = cm[0][0]\n",
    "    FP = cm[0][1]\n",
    "    TN = cm[1][1]\n",
    "    FN = cm[1][0]\n",
    "    accuracy = round((TP+TN)/(TP+TN+FP+FN),2)\n",
    "    return accuracy"
   ]
  },
  {
   "cell_type": "code",
   "execution_count": 324,
   "id": "c5146c16-8605-4297-b769-50cca73bc6d7",
   "metadata": {},
   "outputs": [
    {
     "data": {
      "text/plain": [
       "np.float64(0.73)"
      ]
     },
     "execution_count": 324,
     "metadata": {},
     "output_type": "execute_result"
    }
   ],
   "source": [
    "accuracy(y, preds)"
   ]
  },
  {
   "cell_type": "code",
   "execution_count": 325,
   "id": "841f8c9c-25e1-4735-9df6-03a2df10a921",
   "metadata": {},
   "outputs": [],
   "source": [
    "# функция подсчета precision\n",
    "def precision (y_,preds_):\n",
    "    cm = conf_matrix (y_,preds_)\n",
    "    TP = cm[0][0]\n",
    "    FP = cm[0][1]\n",
    "    precision = round(TP / (TP + FP),2)\n",
    "    return precision"
   ]
  },
  {
   "cell_type": "code",
   "execution_count": 326,
   "id": "7695f963-92dd-4a8f-9e84-8d56d6f13fae",
   "metadata": {},
   "outputs": [
    {
     "data": {
      "text/plain": [
       "np.float64(0.75)"
      ]
     },
     "execution_count": 326,
     "metadata": {},
     "output_type": "execute_result"
    }
   ],
   "source": [
    "precision(y,preds)"
   ]
  },
  {
   "cell_type": "code",
   "execution_count": 327,
   "id": "2b624868-d45c-4605-b338-0d19ced36e17",
   "metadata": {},
   "outputs": [],
   "source": [
    "# функция подсчета recall\n",
    "def recall (y_,preds_):\n",
    "    cm = conf_matrix (y_,preds_)\n",
    "    TP = cm[0][0]\n",
    "    FN = cm[1][0]\n",
    "    recall = round(TP / (TP + FN),2)\n",
    "    return recall"
   ]
  },
  {
   "cell_type": "code",
   "execution_count": 328,
   "id": "15b9d1f6-cb70-47b8-88cd-9bb840f7b5cb",
   "metadata": {},
   "outputs": [
    {
     "data": {
      "text/plain": [
       "np.float64(0.75)"
      ]
     },
     "execution_count": 328,
     "metadata": {},
     "output_type": "execute_result"
    }
   ],
   "source": [
    "recall(y,preds)"
   ]
  },
  {
   "cell_type": "code",
   "execution_count": 329,
   "id": "fcbb1c9f-2528-4f8a-8568-52c1cccb8e8c",
   "metadata": {},
   "outputs": [],
   "source": [
    "# функция подсчета f_score\n",
    "def f_score (y_,preds_):\n",
    "    pr = precision(y_,preds_)\n",
    "    rc = recall(y_,preds_)\n",
    "    f_score = 2*pr*rc/(pr+rc)\n",
    "    return f_score"
   ]
  },
  {
   "cell_type": "code",
   "execution_count": 330,
   "id": "18b7ab44-2810-4195-9e3e-74bc2fee1336",
   "metadata": {},
   "outputs": [
    {
     "data": {
      "text/plain": [
       "np.float64(0.75)"
      ]
     },
     "execution_count": 330,
     "metadata": {},
     "output_type": "execute_result"
    }
   ],
   "source": [
    "f_score(y,preds)"
   ]
  },
  {
   "cell_type": "code",
   "execution_count": 331,
   "id": "d84a9f74-07b4-4a26-aa1e-6c8dd31ba727",
   "metadata": {},
   "outputs": [
    {
     "name": "stdout",
     "output_type": "stream",
     "text": [
      "accuracy_score \t 0.73\n",
      "precision_score\t 0.75\n",
      "recall_score \t 0.75\n",
      "f1_score \t 0.75\n"
     ]
    }
   ],
   "source": [
    "# проверяем расчеты\n",
    "from sklearn.metrics import accuracy_score, precision_score, recall_score, f1_score, confusion_matrix\n",
    "\n",
    "print(f'accuracy_score \\t {round(accuracy_score(y, preds),2)}')\n",
    "print(f'precision_score\\t {precision_score(y, preds)}')\n",
    "print(f'recall_score \\t {recall_score(y, preds)}')\n",
    "print(f'f1_score \\t {f1_score(y, preds)}')"
   ]
  },
  {
   "cell_type": "code",
   "execution_count": 322,
   "id": "371c6933-13e2-4323-83ca-d1cc6f3f83c0",
   "metadata": {},
   "outputs": [
    {
     "data": {
      "text/plain": [
       "array([[6., 2.],\n",
       "       [2., 5.]])"
      ]
     },
     "execution_count": 322,
     "metadata": {},
     "output_type": "execute_result"
    }
   ],
   "source": [
    "conf_matrix(y,preds)"
   ]
  },
  {
   "cell_type": "code",
   "execution_count": 350,
   "id": "e593a46d-5864-45c0-85ef-2774e20b14a2",
   "metadata": {},
   "outputs": [],
   "source": [
    "# ROC-кривая\n",
    "y     = np.array([0,0,1,1,1,1,0,0,0,1,1,0,0,1,1])\n",
    "probs = np.array([0.5,0.3,0.7,0.8,0.5,0.4,0.7,0.8,0.9,0.7,0.7,0.6,0.8,0.5,0.4])"
   ]
  },
  {
   "cell_type": "code",
   "execution_count": 351,
   "id": "15725dff-676f-4977-8d04-460d19cdd755",
   "metadata": {},
   "outputs": [],
   "source": [
    "# функция отрисовки ROC-кривой\n",
    "import matplotlib.pyplot as plt\n",
    "\n",
    "def roc_curve (y, probs):\n",
    "# изначально показатели приравниваем к 1\n",
    "    fpr = [1]\n",
    "    tpr = [1]\n",
    "    \n",
    "        # создаем цикл для расчета показателей в зависимости от порогов\n",
    "    \n",
    "    for thold in sorted(probs):   # сортируем массив по вероятностей по возрастанию\n",
    "        y_pred = np.where(probs > thold, 1, 0)  # формируем массив в значений 1 / 0 в зависимости от порогового значения вероятности\n",
    "        cm=conf_matrix(y,y_pred)\n",
    "        TP = cm[0][0]\n",
    "        FP = cm[0][1]\n",
    "        TN = cm[1][1]\n",
    "        FN = cm[1][0]\n",
    "        # заполняем массивы значений tpr / fpr для каждого порога вероятности\n",
    "        tpr.append(TP/(TP+FN))\n",
    "        fpr.append(FP/(FP+TN))\n",
    "    \n",
    "    plt.plot(tpr,fpr)\n",
    "    plt.xlabel('fpr')\n",
    "    plt.ylabel('tpr')\n",
    "    \n",
    "    tpr.append(0)\n",
    "    fpr.append(0)\n",
    "    return fpr, tpr\n"
   ]
  },
  {
   "cell_type": "code",
   "execution_count": 352,
   "id": "d405c9e2-39c8-4fa0-a447-508a6447e310",
   "metadata": {},
   "outputs": [
    {
     "data": {
      "text/plain": [
       "([1,\n",
       "  np.float64(0.8571428571428571),\n",
       "  np.float64(0.8571428571428571),\n",
       "  np.float64(0.8571428571428571),\n",
       "  np.float64(0.7142857142857143),\n",
       "  np.float64(0.7142857142857143),\n",
       "  np.float64(0.7142857142857143),\n",
       "  np.float64(0.5714285714285714),\n",
       "  np.float64(0.42857142857142855),\n",
       "  np.float64(0.42857142857142855),\n",
       "  np.float64(0.42857142857142855),\n",
       "  np.float64(0.42857142857142855),\n",
       "  np.float64(0.14285714285714285),\n",
       "  np.float64(0.14285714285714285),\n",
       "  np.float64(0.14285714285714285),\n",
       "  np.float64(0.0),\n",
       "  0],\n",
       " [1,\n",
       "  np.float64(1.0),\n",
       "  np.float64(0.75),\n",
       "  np.float64(0.75),\n",
       "  np.float64(0.5),\n",
       "  np.float64(0.5),\n",
       "  np.float64(0.5),\n",
       "  np.float64(0.5),\n",
       "  np.float64(0.125),\n",
       "  np.float64(0.125),\n",
       "  np.float64(0.125),\n",
       "  np.float64(0.125),\n",
       "  np.float64(0.0),\n",
       "  np.float64(0.0),\n",
       "  np.float64(0.0),\n",
       "  np.float64(0.0),\n",
       "  0])"
      ]
     },
     "execution_count": 352,
     "metadata": {},
     "output_type": "execute_result"
    },
    {
     "data": {
      "image/png": "[encoded data removed]",
      "text/plain": [
       "<Figure size 640x480 with 1 Axes>"
      ]
     },
     "metadata": {},
     "output_type": "display_data"
    }
   ],
   "source": [
    "roc_curve(y,probs)"
   ]
  },
  {
   "cell_type": "code",
   "execution_count": 353,
   "id": "d23ee0a9-6441-4a27-be74-3ec804765789",
   "metadata": {},
   "outputs": [
    {
     "data": {
      "text/plain": [
       "Text(0, 0.5, 'tpr')"
      ]
     },
     "execution_count": 353,
     "metadata": {},
     "output_type": "execute_result"
    },
    {
     "data": {
      "image/png": "[encoded data removed]",
      "text/plain": [
       "<Figure size 640x480 with 1 Axes>"
      ]
     },
     "metadata": {},
     "output_type": "display_data"
    }
   ],
   "source": [
    "from sklearn.metrics import roc_curve\n",
    "\n",
    "fpr, tpr, th = roc_curve(y, probs)\n",
    "\n",
    "plt.plot(tpr,fpr)\n",
    "plt.xlabel('fpr')\n",
    "plt.ylabel('tpr')"
   ]
  },
  {
   "cell_type": "code",
   "execution_count": null,
   "id": "52bcda56-9573-4a68-8524-b0f169471a17",
   "metadata": {},
   "outputs": [],
   "source": []
  }
 ],
 "metadata": {
  "kernelspec": {
   "display_name": "Python 3 (ipykernel)",
   "language": "python",
   "name": "python3"
  },
  "language_info": {
   "codemirror_mode": {
    "name": "ipython",
    "version": 3
   },
   "file_extension": ".py",
   "mimetype": "text/x-python",
   "name": "python",
   "nbconvert_exporter": "python",
   "pygments_lexer": "ipython3",
   "version": "3.11.9"
  }
 },
 "nbformat": 4,
 "nbformat_minor": 5
}

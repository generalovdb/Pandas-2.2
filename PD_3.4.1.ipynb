{
 "cells": [
  {
   "cell_type": "code",
   "execution_count": 602,
   "id": "621261ce-7130-4278-9b36-08a509e28d1c",
   "metadata": {},
   "outputs": [],
   "source": [
    "# основные библиотеки\n",
    "import pandas as pd\n",
    "import numpy as np\n",
    "import opendatasets as od\n",
    "import matplotlib.pyplot as plt\n",
    "import seaborn as sns\n",
    "\n",
    "# разделение датасета на для обучения\n",
    "from sklearn.model_selection import train_test_split\n",
    "\n",
    "# модели обучения\n",
    "from sklearn.linear_model import LogisticRegression"
   ]
  },
  {
   "cell_type": "code",
   "execution_count": 603,
   "id": "18f81f0b-5b5c-40a5-860d-b0e556af3012",
   "metadata": {},
   "outputs": [
    {
     "name": "stdout",
     "output_type": "stream",
     "text": [
      "Skipping, found downloaded files in \".\\eligibility-prediction-for-loan\" (use force=True to force download)\n"
     ]
    }
   ],
   "source": [
    "# качаем датасет с кегла\n",
    "od.download('https://www.kaggle.com/datasets/devzohaib/eligibility-prediction-for-loan')"
   ]
  },
  {
   "cell_type": "code",
   "execution_count": 604,
   "id": "308cafc8-f0d6-4c17-9c34-51b6dd183364",
   "metadata": {},
   "outputs": [],
   "source": [
    "df = pd.read_csv('eligibility-prediction-for-loan/Loan_Data.csv')"
   ]
  },
  {
   "cell_type": "code",
   "execution_count": 605,
   "id": "ccfdb8b3-6120-4897-9c9e-8d9162625fca",
   "metadata": {},
   "outputs": [
    {
     "data": {
      "text/html": [
       "<div>\n",
       "<style scoped>\n",
       "    .dataframe tbody tr th:only-of-type {\n",
       "        vertical-align: middle;\n",
       "    }\n",
       "\n",
       "    .dataframe tbody tr th {\n",
       "        vertical-align: top;\n",
       "    }\n",
       "\n",
       "    .dataframe thead th {\n",
       "        text-align: right;\n",
       "    }\n",
       "</style>\n",
       "<table border=\"1\" class=\"dataframe\">\n",
       "  <thead>\n",
       "    <tr style=\"text-align: right;\">\n",
       "      <th></th>\n",
       "      <th>Loan_ID</th>\n",
       "      <th>Gender</th>\n",
       "      <th>Married</th>\n",
       "      <th>Dependents</th>\n",
       "      <th>Education</th>\n",
       "      <th>Self_Employed</th>\n",
       "      <th>ApplicantIncome</th>\n",
       "      <th>CoapplicantIncome</th>\n",
       "      <th>LoanAmount</th>\n",
       "      <th>Loan_Amount_Term</th>\n",
       "      <th>Credit_History</th>\n",
       "      <th>Property_Area</th>\n",
       "      <th>Loan_Status</th>\n",
       "    </tr>\n",
       "  </thead>\n",
       "  <tbody>\n",
       "    <tr>\n",
       "      <th>0</th>\n",
       "      <td>LP001002</td>\n",
       "      <td>Male</td>\n",
       "      <td>No</td>\n",
       "      <td>0</td>\n",
       "      <td>Graduate</td>\n",
       "      <td>No</td>\n",
       "      <td>5849</td>\n",
       "      <td>0.0</td>\n",
       "      <td>NaN</td>\n",
       "      <td>360.0</td>\n",
       "      <td>1.0</td>\n",
       "      <td>Urban</td>\n",
       "      <td>Y</td>\n",
       "    </tr>\n",
       "    <tr>\n",
       "      <th>1</th>\n",
       "      <td>LP001003</td>\n",
       "      <td>Male</td>\n",
       "      <td>Yes</td>\n",
       "      <td>1</td>\n",
       "      <td>Graduate</td>\n",
       "      <td>No</td>\n",
       "      <td>4583</td>\n",
       "      <td>1508.0</td>\n",
       "      <td>128.0</td>\n",
       "      <td>360.0</td>\n",
       "      <td>1.0</td>\n",
       "      <td>Rural</td>\n",
       "      <td>N</td>\n",
       "    </tr>\n",
       "    <tr>\n",
       "      <th>2</th>\n",
       "      <td>LP001005</td>\n",
       "      <td>Male</td>\n",
       "      <td>Yes</td>\n",
       "      <td>0</td>\n",
       "      <td>Graduate</td>\n",
       "      <td>Yes</td>\n",
       "      <td>3000</td>\n",
       "      <td>0.0</td>\n",
       "      <td>66.0</td>\n",
       "      <td>360.0</td>\n",
       "      <td>1.0</td>\n",
       "      <td>Urban</td>\n",
       "      <td>Y</td>\n",
       "    </tr>\n",
       "    <tr>\n",
       "      <th>3</th>\n",
       "      <td>LP001006</td>\n",
       "      <td>Male</td>\n",
       "      <td>Yes</td>\n",
       "      <td>0</td>\n",
       "      <td>Not Graduate</td>\n",
       "      <td>No</td>\n",
       "      <td>2583</td>\n",
       "      <td>2358.0</td>\n",
       "      <td>120.0</td>\n",
       "      <td>360.0</td>\n",
       "      <td>1.0</td>\n",
       "      <td>Urban</td>\n",
       "      <td>Y</td>\n",
       "    </tr>\n",
       "    <tr>\n",
       "      <th>4</th>\n",
       "      <td>LP001008</td>\n",
       "      <td>Male</td>\n",
       "      <td>No</td>\n",
       "      <td>0</td>\n",
       "      <td>Graduate</td>\n",
       "      <td>No</td>\n",
       "      <td>6000</td>\n",
       "      <td>0.0</td>\n",
       "      <td>141.0</td>\n",
       "      <td>360.0</td>\n",
       "      <td>1.0</td>\n",
       "      <td>Urban</td>\n",
       "      <td>Y</td>\n",
       "    </tr>\n",
       "  </tbody>\n",
       "</table>\n",
       "</div>"
      ],
      "text/plain": [
       "    Loan_ID Gender Married Dependents     Education Self_Employed  \\\n",
       "0  LP001002   Male      No          0      Graduate            No   \n",
       "1  LP001003   Male     Yes          1      Graduate            No   \n",
       "2  LP001005   Male     Yes          0      Graduate           Yes   \n",
       "3  LP001006   Male     Yes          0  Not Graduate            No   \n",
       "4  LP001008   Male      No          0      Graduate            No   \n",
       "\n",
       "   ApplicantIncome  CoapplicantIncome  LoanAmount  Loan_Amount_Term  \\\n",
       "0             5849                0.0         NaN             360.0   \n",
       "1             4583             1508.0       128.0             360.0   \n",
       "2             3000                0.0        66.0             360.0   \n",
       "3             2583             2358.0       120.0             360.0   \n",
       "4             6000                0.0       141.0             360.0   \n",
       "\n",
       "   Credit_History Property_Area Loan_Status  \n",
       "0             1.0         Urban           Y  \n",
       "1             1.0         Rural           N  \n",
       "2             1.0         Urban           Y  \n",
       "3             1.0         Urban           Y  \n",
       "4             1.0         Urban           Y  "
      ]
     },
     "execution_count": 605,
     "metadata": {},
     "output_type": "execute_result"
    }
   ],
   "source": [
    "df.head()"
   ]
  },
  {
   "cell_type": "code",
   "execution_count": 606,
   "id": "132b2440-93a9-4758-a6b1-837c91c444d8",
   "metadata": {},
   "outputs": [
    {
     "name": "stdout",
     "output_type": "stream",
     "text": [
      "<class 'pandas.core.frame.DataFrame'>\n",
      "RangeIndex: 614 entries, 0 to 613\n",
      "Data columns (total 13 columns):\n",
      " #   Column             Non-Null Count  Dtype  \n",
      "---  ------             --------------  -----  \n",
      " 0   Loan_ID            614 non-null    object \n",
      " 1   Gender             601 non-null    object \n",
      " 2   Married            611 non-null    object \n",
      " 3   Dependents         599 non-null    object \n",
      " 4   Education          614 non-null    object \n",
      " 5   Self_Employed      582 non-null    object \n",
      " 6   ApplicantIncome    614 non-null    int64  \n",
      " 7   CoapplicantIncome  614 non-null    float64\n",
      " 8   LoanAmount         592 non-null    float64\n",
      " 9   Loan_Amount_Term   600 non-null    float64\n",
      " 10  Credit_History     564 non-null    float64\n",
      " 11  Property_Area      614 non-null    object \n",
      " 12  Loan_Status        614 non-null    object \n",
      "dtypes: float64(4), int64(1), object(8)\n",
      "memory usage: 62.5+ KB\n"
     ]
    }
   ],
   "source": [
    "# Очень много категриальных признаков, причем бинарных - пол/семейное положение/собственный бизнес\n",
    "df.info()"
   ]
  },
  {
   "cell_type": "code",
   "execution_count": 607,
   "id": "6d0e835b-3fa9-4bb5-bf4c-cc79e0d494d7",
   "metadata": {},
   "outputs": [
    {
     "data": {
      "text/plain": [
       "(614, 13)"
      ]
     },
     "execution_count": 607,
     "metadata": {},
     "output_type": "execute_result"
    }
   ],
   "source": [
    "df.shape"
   ]
  },
  {
   "cell_type": "code",
   "execution_count": 608,
   "id": "8db50c70-6264-4522-9998-1cfe5e817691",
   "metadata": {},
   "outputs": [],
   "source": [
    "# столбец Loan_id не несет никаого смысла. удаляем\n",
    "df.drop(columns='Loan_ID', inplace=True)"
   ]
  },
  {
   "cell_type": "code",
   "execution_count": 609,
   "id": "6c5d5096-8976-429e-a7d6-8492b925d9df",
   "metadata": {},
   "outputs": [
    {
     "data": {
      "text/plain": [
       "[[array(['Male', 'Female', nan], dtype=object),\n",
       "  array(['No', 'Yes', nan], dtype=object),\n",
       "  array(['0', '1', '2', '3+', nan], dtype=object),\n",
       "  array(['Graduate', 'Not Graduate'], dtype=object),\n",
       "  array(['No', 'Yes', nan], dtype=object),\n",
       "  array(['Urban', 'Rural', 'Semiurban'], dtype=object),\n",
       "  array(['Y', 'N'], dtype=object)]]"
      ]
     },
     "execution_count": 609,
     "metadata": {},
     "output_type": "execute_result"
    }
   ],
   "source": [
    "# смотрим уникальные записи в столбцах с типом Object\n",
    "df[df.select_dtypes('object').columns].agg(['unique']).values.tolist()"
   ]
  },
  {
   "cell_type": "code",
   "execution_count": 610,
   "id": "cc4f8f90-0322-45fb-bfd4-572832b4b12a",
   "metadata": {},
   "outputs": [
    {
     "data": {
      "text/html": [
       "<div>\n",
       "<style scoped>\n",
       "    .dataframe tbody tr th:only-of-type {\n",
       "        vertical-align: middle;\n",
       "    }\n",
       "\n",
       "    .dataframe tbody tr th {\n",
       "        vertical-align: top;\n",
       "    }\n",
       "\n",
       "    .dataframe thead th {\n",
       "        text-align: right;\n",
       "    }\n",
       "</style>\n",
       "<table border=\"1\" class=\"dataframe\">\n",
       "  <thead>\n",
       "    <tr style=\"text-align: right;\">\n",
       "      <th></th>\n",
       "      <th>Gender</th>\n",
       "      <th>Married</th>\n",
       "      <th>Dependents</th>\n",
       "      <th>Education</th>\n",
       "      <th>Self_Employed</th>\n",
       "      <th>ApplicantIncome</th>\n",
       "      <th>CoapplicantIncome</th>\n",
       "      <th>LoanAmount</th>\n",
       "      <th>Loan_Amount_Term</th>\n",
       "      <th>Credit_History</th>\n",
       "      <th>Property_Area</th>\n",
       "      <th>Loan_Status</th>\n",
       "    </tr>\n",
       "  </thead>\n",
       "  <tbody>\n",
       "    <tr>\n",
       "      <th>0</th>\n",
       "      <td>Male</td>\n",
       "      <td>No</td>\n",
       "      <td>0</td>\n",
       "      <td>Graduate</td>\n",
       "      <td>No</td>\n",
       "      <td>5849</td>\n",
       "      <td>0.0</td>\n",
       "      <td>NaN</td>\n",
       "      <td>360.0</td>\n",
       "      <td>1.0</td>\n",
       "      <td>Urban</td>\n",
       "      <td>Y</td>\n",
       "    </tr>\n",
       "    <tr>\n",
       "      <th>1</th>\n",
       "      <td>Male</td>\n",
       "      <td>Yes</td>\n",
       "      <td>1</td>\n",
       "      <td>Graduate</td>\n",
       "      <td>No</td>\n",
       "      <td>4583</td>\n",
       "      <td>1508.0</td>\n",
       "      <td>128.0</td>\n",
       "      <td>360.0</td>\n",
       "      <td>1.0</td>\n",
       "      <td>Rural</td>\n",
       "      <td>N</td>\n",
       "    </tr>\n",
       "    <tr>\n",
       "      <th>2</th>\n",
       "      <td>Male</td>\n",
       "      <td>Yes</td>\n",
       "      <td>0</td>\n",
       "      <td>Graduate</td>\n",
       "      <td>Yes</td>\n",
       "      <td>3000</td>\n",
       "      <td>0.0</td>\n",
       "      <td>66.0</td>\n",
       "      <td>360.0</td>\n",
       "      <td>1.0</td>\n",
       "      <td>Urban</td>\n",
       "      <td>Y</td>\n",
       "    </tr>\n",
       "    <tr>\n",
       "      <th>3</th>\n",
       "      <td>Male</td>\n",
       "      <td>Yes</td>\n",
       "      <td>0</td>\n",
       "      <td>Not Graduate</td>\n",
       "      <td>No</td>\n",
       "      <td>2583</td>\n",
       "      <td>2358.0</td>\n",
       "      <td>120.0</td>\n",
       "      <td>360.0</td>\n",
       "      <td>1.0</td>\n",
       "      <td>Urban</td>\n",
       "      <td>Y</td>\n",
       "    </tr>\n",
       "    <tr>\n",
       "      <th>4</th>\n",
       "      <td>Male</td>\n",
       "      <td>No</td>\n",
       "      <td>0</td>\n",
       "      <td>Graduate</td>\n",
       "      <td>No</td>\n",
       "      <td>6000</td>\n",
       "      <td>0.0</td>\n",
       "      <td>141.0</td>\n",
       "      <td>360.0</td>\n",
       "      <td>1.0</td>\n",
       "      <td>Urban</td>\n",
       "      <td>Y</td>\n",
       "    </tr>\n",
       "  </tbody>\n",
       "</table>\n",
       "</div>"
      ],
      "text/plain": [
       "  Gender Married Dependents     Education Self_Employed  ApplicantIncome  \\\n",
       "0   Male      No          0      Graduate            No             5849   \n",
       "1   Male     Yes          1      Graduate            No             4583   \n",
       "2   Male     Yes          0      Graduate           Yes             3000   \n",
       "3   Male     Yes          0  Not Graduate            No             2583   \n",
       "4   Male      No          0      Graduate            No             6000   \n",
       "\n",
       "   CoapplicantIncome  LoanAmount  Loan_Amount_Term  Credit_History  \\\n",
       "0                0.0         NaN             360.0             1.0   \n",
       "1             1508.0       128.0             360.0             1.0   \n",
       "2                0.0        66.0             360.0             1.0   \n",
       "3             2358.0       120.0             360.0             1.0   \n",
       "4                0.0       141.0             360.0             1.0   \n",
       "\n",
       "  Property_Area Loan_Status  \n",
       "0         Urban           Y  \n",
       "1         Rural           N  \n",
       "2         Urban           Y  \n",
       "3         Urban           Y  \n",
       "4         Urban           Y  "
      ]
     },
     "execution_count": 610,
     "metadata": {},
     "output_type": "execute_result"
    }
   ],
   "source": [
    "df.head()"
   ]
  },
  {
   "cell_type": "code",
   "execution_count": 611,
   "id": "075281f8-8e1f-46ca-ba18-d69ed3db08d5",
   "metadata": {},
   "outputs": [],
   "source": [
    "# Начнем с базового варианта\n",
    "# Сохраним таргет\n",
    "# Удалим все категориальные признаки"
   ]
  },
  {
   "cell_type": "code",
   "execution_count": 612,
   "id": "18176baa-033a-4ba3-b60c-baf3e0d589b9",
   "metadata": {},
   "outputs": [],
   "source": [
    "df_target = df.Loan_Status\n",
    "df_clean_base = df.drop(columns=df.select_dtypes('object').columns, inplace=False)"
   ]
  },
  {
   "cell_type": "code",
   "execution_count": 613,
   "id": "1620ed01-98a2-4d86-ae7c-5068ca73106c",
   "metadata": {},
   "outputs": [
    {
     "data": {
      "text/plain": [
       "((614,), (614, 5))"
      ]
     },
     "execution_count": 613,
     "metadata": {},
     "output_type": "execute_result"
    }
   ],
   "source": [
    "df_target.shape, df_clean_base.shape"
   ]
  },
  {
   "cell_type": "code",
   "execution_count": 614,
   "id": "1fda93da-032c-4978-9696-f3654e32d37c",
   "metadata": {},
   "outputs": [
    {
     "data": {
      "text/html": [
       "<div>\n",
       "<style scoped>\n",
       "    .dataframe tbody tr th:only-of-type {\n",
       "        vertical-align: middle;\n",
       "    }\n",
       "\n",
       "    .dataframe tbody tr th {\n",
       "        vertical-align: top;\n",
       "    }\n",
       "\n",
       "    .dataframe thead th {\n",
       "        text-align: right;\n",
       "    }\n",
       "</style>\n",
       "<table border=\"1\" class=\"dataframe\">\n",
       "  <thead>\n",
       "    <tr style=\"text-align: right;\">\n",
       "      <th></th>\n",
       "      <th>ApplicantIncome</th>\n",
       "      <th>CoapplicantIncome</th>\n",
       "      <th>LoanAmount</th>\n",
       "      <th>Loan_Amount_Term</th>\n",
       "      <th>Credit_History</th>\n",
       "    </tr>\n",
       "  </thead>\n",
       "  <tbody>\n",
       "    <tr>\n",
       "      <th>0</th>\n",
       "      <td>5849</td>\n",
       "      <td>0.0</td>\n",
       "      <td>NaN</td>\n",
       "      <td>360.0</td>\n",
       "      <td>1.0</td>\n",
       "    </tr>\n",
       "    <tr>\n",
       "      <th>1</th>\n",
       "      <td>4583</td>\n",
       "      <td>1508.0</td>\n",
       "      <td>128.0</td>\n",
       "      <td>360.0</td>\n",
       "      <td>1.0</td>\n",
       "    </tr>\n",
       "    <tr>\n",
       "      <th>2</th>\n",
       "      <td>3000</td>\n",
       "      <td>0.0</td>\n",
       "      <td>66.0</td>\n",
       "      <td>360.0</td>\n",
       "      <td>1.0</td>\n",
       "    </tr>\n",
       "    <tr>\n",
       "      <th>3</th>\n",
       "      <td>2583</td>\n",
       "      <td>2358.0</td>\n",
       "      <td>120.0</td>\n",
       "      <td>360.0</td>\n",
       "      <td>1.0</td>\n",
       "    </tr>\n",
       "    <tr>\n",
       "      <th>4</th>\n",
       "      <td>6000</td>\n",
       "      <td>0.0</td>\n",
       "      <td>141.0</td>\n",
       "      <td>360.0</td>\n",
       "      <td>1.0</td>\n",
       "    </tr>\n",
       "  </tbody>\n",
       "</table>\n",
       "</div>"
      ],
      "text/plain": [
       "   ApplicantIncome  CoapplicantIncome  LoanAmount  Loan_Amount_Term  \\\n",
       "0             5849                0.0         NaN             360.0   \n",
       "1             4583             1508.0       128.0             360.0   \n",
       "2             3000                0.0        66.0             360.0   \n",
       "3             2583             2358.0       120.0             360.0   \n",
       "4             6000                0.0       141.0             360.0   \n",
       "\n",
       "   Credit_History  \n",
       "0             1.0  \n",
       "1             1.0  \n",
       "2             1.0  \n",
       "3             1.0  \n",
       "4             1.0  "
      ]
     },
     "execution_count": 614,
     "metadata": {},
     "output_type": "execute_result"
    }
   ],
   "source": [
    "df_clean_base.head()"
   ]
  },
  {
   "cell_type": "code",
   "execution_count": 615,
   "id": "b49ec54f-44f0-4e11-939e-70c83aba47f5",
   "metadata": {},
   "outputs": [
    {
     "name": "stdout",
     "output_type": "stream",
     "text": [
      "<class 'pandas.core.frame.DataFrame'>\n",
      "RangeIndex: 614 entries, 0 to 613\n",
      "Data columns (total 5 columns):\n",
      " #   Column             Non-Null Count  Dtype  \n",
      "---  ------             --------------  -----  \n",
      " 0   ApplicantIncome    614 non-null    int64  \n",
      " 1   CoapplicantIncome  614 non-null    float64\n",
      " 2   LoanAmount         592 non-null    float64\n",
      " 3   Loan_Amount_Term   600 non-null    float64\n",
      " 4   Credit_History     564 non-null    float64\n",
      "dtypes: float64(4), int64(1)\n",
      "memory usage: 24.1 KB\n"
     ]
    }
   ],
   "source": [
    "df_clean_base.info()"
   ]
  },
  {
   "cell_type": "code",
   "execution_count": 616,
   "id": "6c3c7e37-f6f1-48c4-8d38-244b1018c1dc",
   "metadata": {},
   "outputs": [],
   "source": [
    "# Заполним пропуски методом SimpleImputer используя медиану\n",
    "from sklearn.impute import SimpleImputer\n",
    "\n",
    "col_names = df_clean_base.columns.values\n",
    "imputer = SimpleImputer(missing_values = np.nan, strategy ='median')\n",
    "df_clean_base = pd.DataFrame(imputer.fit_transform(df_clean_base), columns=col_names)"
   ]
  },
  {
   "cell_type": "code",
   "execution_count": 617,
   "id": "df9d3f62-76a1-4ce9-bf0f-2d4eada1e4e0",
   "metadata": {},
   "outputs": [
    {
     "name": "stdout",
     "output_type": "stream",
     "text": [
      "<class 'pandas.core.frame.DataFrame'>\n",
      "RangeIndex: 614 entries, 0 to 613\n",
      "Data columns (total 5 columns):\n",
      " #   Column             Non-Null Count  Dtype  \n",
      "---  ------             --------------  -----  \n",
      " 0   ApplicantIncome    614 non-null    float64\n",
      " 1   CoapplicantIncome  614 non-null    float64\n",
      " 2   LoanAmount         614 non-null    float64\n",
      " 3   Loan_Amount_Term   614 non-null    float64\n",
      " 4   Credit_History     614 non-null    float64\n",
      "dtypes: float64(5)\n",
      "memory usage: 24.1 KB\n"
     ]
    }
   ],
   "source": [
    "df_clean_base.info()"
   ]
  },
  {
   "cell_type": "code",
   "execution_count": 618,
   "id": "dcb04814-d36b-4a5b-92eb-a915c1628150",
   "metadata": {},
   "outputs": [],
   "source": [
    "X_train, X_test, y_train, y_test = train_test_split(df_clean_base, df_target, test_size=0.2, random_state=42)"
   ]
  },
  {
   "cell_type": "code",
   "execution_count": 619,
   "id": "502c8cc3-5067-4404-98bd-e25a499bc19b",
   "metadata": {},
   "outputs": [
    {
     "data": {
      "text/plain": [
       "((491, 5), (123, 5), (491,), (123,))"
      ]
     },
     "execution_count": 619,
     "metadata": {},
     "output_type": "execute_result"
    }
   ],
   "source": [
    "X_train.shape, X_test.shape, y_train.shape, y_test.shape"
   ]
  },
  {
   "cell_type": "code",
   "execution_count": 620,
   "id": "a162b266-49a6-4c1a-a4f6-0757dbddf40b",
   "metadata": {},
   "outputs": [
    {
     "data": {
      "text/plain": [
       "83     N\n",
       "90     Y\n",
       "227    Y\n",
       "482    Y\n",
       "464    N\n",
       "Name: Loan_Status, dtype: object"
      ]
     },
     "execution_count": 620,
     "metadata": {},
     "output_type": "execute_result"
    }
   ],
   "source": [
    "y_train.head()"
   ]
  },
  {
   "cell_type": "code",
   "execution_count": 621,
   "id": "9c14fba1-8d4c-4078-b0d6-084c270a353f",
   "metadata": {},
   "outputs": [
    {
     "name": "stderr",
     "output_type": "stream",
     "text": [
      "C:\\Users\\generalovdb\\AppData\\Local\\Packages\\PythonSoftwareFoundation.Python.3.11_qbz5n2kfra8p0\\LocalCache\\local-packages\\Python311\\site-packages\\sklearn\\linear_model\\_logistic.py:465: ConvergenceWarning: lbfgs failed to converge (status=1):\n",
      "STOP: TOTAL NO. OF ITERATIONS REACHED LIMIT.\n",
      "\n",
      "Increase the number of iterations (max_iter) or scale the data as shown in:\n",
      "    https://scikit-learn.org/stable/modules/preprocessing.html\n",
      "Please also refer to the documentation for alternative solver options:\n",
      "    https://scikit-learn.org/stable/modules/linear_model.html#logistic-regression\n",
      "  n_iter_i = _check_optimize_result(\n"
     ]
    }
   ],
   "source": [
    "# Объявим объект модели линейной регрессии и обучим ее\n",
    "# сохраним результаты предстаказания модели по обучающей и тестовой выборкам\n",
    "lr_base = LogisticRegression()\n",
    "lr_base.fit(X_train, y_train)\n",
    "\n",
    "pred_train_base = lr_base.predict(X_train)\n",
    "pred_test_base = lr_base.predict(X_test)"
   ]
  },
  {
   "cell_type": "code",
   "execution_count": 622,
   "id": "78f33c19-fc86-4f55-b3b7-65556539f141",
   "metadata": {},
   "outputs": [
    {
     "data": {
      "text/plain": [
       "((491,), (123,))"
      ]
     },
     "execution_count": 622,
     "metadata": {},
     "output_type": "execute_result"
    }
   ],
   "source": [
    "pred_train_base.shape, pred_test_base.shape"
   ]
  },
  {
   "cell_type": "code",
   "execution_count": 623,
   "id": "f9fb9a7f-7e21-4129-a806-3fb431d66880",
   "metadata": {},
   "outputs": [],
   "source": [
    "train_report_base = classification_report(pred_train_base, y_train)\n",
    "test_report_base = classification_report(pred_test_base, y_test)"
   ]
  },
  {
   "cell_type": "code",
   "execution_count": 624,
   "id": "ff856170-67fb-42a3-a3d2-9a6c0de443b2",
   "metadata": {},
   "outputs": [
    {
     "name": "stdout",
     "output_type": "stream",
     "text": [
      "Обучающая выборка\n",
      "              precision    recall  f1-score   support\n",
      "\n",
      "           N       0.44      0.92      0.59        71\n",
      "           Y       0.98      0.80      0.88       420\n",
      "\n",
      "    accuracy                           0.82       491\n",
      "   macro avg       0.71      0.86      0.74       491\n",
      "weighted avg       0.90      0.82      0.84       491\n",
      "\n",
      "Тестовая выборка\n",
      "              precision    recall  f1-score   support\n",
      "\n",
      "           N       0.42      0.95      0.58        19\n",
      "           Y       0.99      0.76      0.86       104\n",
      "\n",
      "    accuracy                           0.79       123\n",
      "   macro avg       0.70      0.85      0.72       123\n",
      "weighted avg       0.90      0.79      0.82       123\n",
      "\n"
     ]
    }
   ],
   "source": [
    "from sklearn.metrics import classification_report\n",
    "\n",
    "print('Обучающая выборка')\n",
    "print(train_report_base)\n",
    "print('Тестовая выборка')\n",
    "print(test_report_base)"
   ]
  },
  {
   "cell_type": "code",
   "execution_count": 625,
   "id": "0d9383bf-d473-48d9-bdbc-4fe41b2a23dd",
   "metadata": {},
   "outputs": [
    {
     "data": {
      "text/plain": [
       "Loan_Status\n",
       "Y    422\n",
       "N    192\n",
       "Name: count, dtype: int64"
      ]
     },
     "execution_count": 625,
     "metadata": {},
     "output_type": "execute_result"
    }
   ],
   "source": [
    "# микрометрики подходят когда нет дисбаланса внутри признаков\n",
    "df_target.value_counts()"
   ]
  },
  {
   "cell_type": "code",
   "execution_count": 626,
   "id": "b3de9522-911a-4ff7-8eac-cc67f117fd7b",
   "metadata": {},
   "outputs": [
    {
     "data": {
      "text/plain": [
       "np.float64(68.72964169381108)"
      ]
     },
     "execution_count": 626,
     "metadata": {},
     "output_type": "execute_result"
    }
   ],
   "source": [
    "df_target[df_target=='Y'].count()*100/df_target.shape[0]"
   ]
  },
  {
   "cell_type": "code",
   "execution_count": 627,
   "id": "dee29ac9-ea9e-4f7e-aff7-145107f355e6",
   "metadata": {},
   "outputs": [],
   "source": [
    "# в нашем случае лучше использовать макрометрики\n",
    "# при этом вес класса внутри признака значения не имеет, те важность для оценки низкая\n",
    "# взвешенные метрики нужны если есть дисбаланс классов и при этом нам важно учесть их веса\n"
   ]
  },
  {
   "cell_type": "code",
   "execution_count": 628,
   "id": "c97e5769-bf23-410b-a8a9-98cfcc1ff978",
   "metadata": {},
   "outputs": [],
   "source": [
    "# ПЕРЕЙДЕМ К ДЕТАЛЬНОМУ АНАЛИЗУ\n",
    "\n",
    "# 1. Наличие пропусков\n",
    "# 2. Наличие аномалий и выбросов\n",
    "# 3. Наличие взаимосвязей\n",
    "# 4. Характер распределения признаков"
   ]
  },
  {
   "cell_type": "code",
   "execution_count": 629,
   "id": "956d98d6-2b93-4e8c-9049-8c77d8ff2a73",
   "metadata": {},
   "outputs": [
    {
     "data": {
      "text/html": [
       "<div>\n",
       "<style scoped>\n",
       "    .dataframe tbody tr th:only-of-type {\n",
       "        vertical-align: middle;\n",
       "    }\n",
       "\n",
       "    .dataframe tbody tr th {\n",
       "        vertical-align: top;\n",
       "    }\n",
       "\n",
       "    .dataframe thead th {\n",
       "        text-align: right;\n",
       "    }\n",
       "</style>\n",
       "<table border=\"1\" class=\"dataframe\">\n",
       "  <thead>\n",
       "    <tr style=\"text-align: right;\">\n",
       "      <th></th>\n",
       "      <th>Gender</th>\n",
       "      <th>Married</th>\n",
       "      <th>Dependents</th>\n",
       "      <th>Education</th>\n",
       "      <th>Self_Employed</th>\n",
       "      <th>ApplicantIncome</th>\n",
       "      <th>CoapplicantIncome</th>\n",
       "      <th>LoanAmount</th>\n",
       "      <th>Loan_Amount_Term</th>\n",
       "      <th>Credit_History</th>\n",
       "      <th>Property_Area</th>\n",
       "      <th>Loan_Status</th>\n",
       "    </tr>\n",
       "  </thead>\n",
       "  <tbody>\n",
       "    <tr>\n",
       "      <th>0</th>\n",
       "      <td>Male</td>\n",
       "      <td>No</td>\n",
       "      <td>0</td>\n",
       "      <td>Graduate</td>\n",
       "      <td>No</td>\n",
       "      <td>5849</td>\n",
       "      <td>0.0</td>\n",
       "      <td>NaN</td>\n",
       "      <td>360.0</td>\n",
       "      <td>1.0</td>\n",
       "      <td>Urban</td>\n",
       "      <td>Y</td>\n",
       "    </tr>\n",
       "    <tr>\n",
       "      <th>1</th>\n",
       "      <td>Male</td>\n",
       "      <td>Yes</td>\n",
       "      <td>1</td>\n",
       "      <td>Graduate</td>\n",
       "      <td>No</td>\n",
       "      <td>4583</td>\n",
       "      <td>1508.0</td>\n",
       "      <td>128.0</td>\n",
       "      <td>360.0</td>\n",
       "      <td>1.0</td>\n",
       "      <td>Rural</td>\n",
       "      <td>N</td>\n",
       "    </tr>\n",
       "    <tr>\n",
       "      <th>2</th>\n",
       "      <td>Male</td>\n",
       "      <td>Yes</td>\n",
       "      <td>0</td>\n",
       "      <td>Graduate</td>\n",
       "      <td>Yes</td>\n",
       "      <td>3000</td>\n",
       "      <td>0.0</td>\n",
       "      <td>66.0</td>\n",
       "      <td>360.0</td>\n",
       "      <td>1.0</td>\n",
       "      <td>Urban</td>\n",
       "      <td>Y</td>\n",
       "    </tr>\n",
       "    <tr>\n",
       "      <th>3</th>\n",
       "      <td>Male</td>\n",
       "      <td>Yes</td>\n",
       "      <td>0</td>\n",
       "      <td>Not Graduate</td>\n",
       "      <td>No</td>\n",
       "      <td>2583</td>\n",
       "      <td>2358.0</td>\n",
       "      <td>120.0</td>\n",
       "      <td>360.0</td>\n",
       "      <td>1.0</td>\n",
       "      <td>Urban</td>\n",
       "      <td>Y</td>\n",
       "    </tr>\n",
       "    <tr>\n",
       "      <th>4</th>\n",
       "      <td>Male</td>\n",
       "      <td>No</td>\n",
       "      <td>0</td>\n",
       "      <td>Graduate</td>\n",
       "      <td>No</td>\n",
       "      <td>6000</td>\n",
       "      <td>0.0</td>\n",
       "      <td>141.0</td>\n",
       "      <td>360.0</td>\n",
       "      <td>1.0</td>\n",
       "      <td>Urban</td>\n",
       "      <td>Y</td>\n",
       "    </tr>\n",
       "  </tbody>\n",
       "</table>\n",
       "</div>"
      ],
      "text/plain": [
       "  Gender Married Dependents     Education Self_Employed  ApplicantIncome  \\\n",
       "0   Male      No          0      Graduate            No             5849   \n",
       "1   Male     Yes          1      Graduate            No             4583   \n",
       "2   Male     Yes          0      Graduate           Yes             3000   \n",
       "3   Male     Yes          0  Not Graduate            No             2583   \n",
       "4   Male      No          0      Graduate            No             6000   \n",
       "\n",
       "   CoapplicantIncome  LoanAmount  Loan_Amount_Term  Credit_History  \\\n",
       "0                0.0         NaN             360.0             1.0   \n",
       "1             1508.0       128.0             360.0             1.0   \n",
       "2                0.0        66.0             360.0             1.0   \n",
       "3             2358.0       120.0             360.0             1.0   \n",
       "4                0.0       141.0             360.0             1.0   \n",
       "\n",
       "  Property_Area Loan_Status  \n",
       "0         Urban           Y  \n",
       "1         Rural           N  \n",
       "2         Urban           Y  \n",
       "3         Urban           Y  \n",
       "4         Urban           Y  "
      ]
     },
     "execution_count": 629,
     "metadata": {},
     "output_type": "execute_result"
    }
   ],
   "source": [
    "df.head()"
   ]
  },
  {
   "cell_type": "code",
   "execution_count": 630,
   "id": "c9c93171-16bc-4b75-8dd7-82f1faf4a179",
   "metadata": {},
   "outputs": [
    {
     "name": "stdout",
     "output_type": "stream",
     "text": [
      "Gender               13\n",
      "Married               3\n",
      "Dependents           15\n",
      "Education             0\n",
      "Self_Employed        32\n",
      "ApplicantIncome       0\n",
      "CoapplicantIncome     0\n",
      "LoanAmount           22\n",
      "Loan_Amount_Term     14\n",
      "Credit_History       50\n",
      "Property_Area         0\n",
      "Loan_Status           0\n",
      "dtype: int64\n"
     ]
    }
   ],
   "source": [
    "# количество пропусков в признаках\n",
    "print(df.isna().sum())"
   ]
  },
  {
   "cell_type": "code",
   "execution_count": 631,
   "id": "38caa1c7-48d6-4b58-8464-7a261c9ad95e",
   "metadata": {},
   "outputs": [],
   "source": [
    "cat_cols=df.select_dtypes('object').columns.tolist()\n",
    "num_cols=df.select_dtypes(['float64', 'int64']).columns.tolist()"
   ]
  },
  {
   "cell_type": "code",
   "execution_count": 632,
   "id": "c8d96868-20e6-4617-b120-ee04a81d06f0",
   "metadata": {},
   "outputs": [
    {
     "data": {
      "text/plain": [
       "<Axes: >"
      ]
     },
     "execution_count": 632,
     "metadata": {},
     "output_type": "execute_result"
    },
    {
     "data": {
      "image/png": "[encoded data removed]",
      "text/plain": [
       "<Figure size 640x480 with 2 Axes>"
      ]
     },
     "metadata": {},
     "output_type": "display_data"
    }
   ],
   "source": [
    "corr = df[num_cols].corr()\n",
    "sns.heatmap(corr, annot=True)\n",
    "# наибольшая связь между признаками у доходов заемщика и суммой займа"
   ]
  },
  {
   "cell_type": "code",
   "execution_count": 633,
   "id": "f43f91df-d6eb-4f37-a89a-35ee62ce31e9",
   "metadata": {},
   "outputs": [
    {
     "data": {
      "text/plain": [
       "<seaborn.axisgrid.PairGrid at 0x27ff908fbd0>"
      ]
     },
     "execution_count": 633,
     "metadata": {},
     "output_type": "execute_result"
    },
    {
     "data": {
      "image/png": "[encoded data removed]",
      "text/plain": [
       "<Figure size 1250x1250 with 20 Axes>"
      ]
     },
     "metadata": {},
     "output_type": "display_data"
    }
   ],
   "source": [
    "sns.pairplot(df[num_cols], corner=True)"
   ]
  },
  {
   "cell_type": "code",
   "execution_count": 634,
   "id": "e4270360-1405-4034-b530-d20c40514eb4",
   "metadata": {},
   "outputs": [
    {
     "name": "stdout",
     "output_type": "stream",
     "text": [
      "<class 'pandas.core.frame.DataFrame'>\n",
      "RangeIndex: 614 entries, 0 to 613\n",
      "Data columns (total 5 columns):\n",
      " #   Column             Non-Null Count  Dtype  \n",
      "---  ------             --------------  -----  \n",
      " 0   ApplicantIncome    614 non-null    int64  \n",
      " 1   CoapplicantIncome  614 non-null    float64\n",
      " 2   LoanAmount         592 non-null    float64\n",
      " 3   Loan_Amount_Term   600 non-null    float64\n",
      " 4   Credit_History     564 non-null    float64\n",
      "dtypes: float64(4), int64(1)\n",
      "memory usage: 24.1 KB\n"
     ]
    }
   ],
   "source": [
    "df[num_cols].info()"
   ]
  },
  {
   "cell_type": "code",
   "execution_count": 635,
   "id": "073c361c-94d2-4582-97bd-3b0e9306d171",
   "metadata": {},
   "outputs": [
    {
     "data": {
      "text/plain": [
       "<Axes: xlabel='ApplicantIncome', ylabel='Count'>"
      ]
     },
     "execution_count": 635,
     "metadata": {},
     "output_type": "execute_result"
    },
    {
     "data": {
      "image/png": "[encoded data removed]",
      "text/plain": [
       "<Figure size 1600x500 with 2 Axes>"
      ]
     },
     "metadata": {},
     "output_type": "display_data"
    }
   ],
   "source": [
    "plt.figure(figsize=(16,5))\n",
    "plt.subplot(1,2,1)\n",
    "sns.histplot(df.LoanAmount, kde=True)\n",
    "plt.subplot(1,2,2)\n",
    "sns.histplot(df.ApplicantIncome, kde=True)"
   ]
  },
  {
   "cell_type": "code",
   "execution_count": 636,
   "id": "284c675d-342f-4810-b6e0-3d8cfdb9a079",
   "metadata": {},
   "outputs": [
    {
     "name": "stdout",
     "output_type": "stream",
     "text": [
      "<class 'pandas.core.frame.DataFrame'>\n",
      "RangeIndex: 614 entries, 0 to 613\n",
      "Data columns (total 7 columns):\n",
      " #   Column         Non-Null Count  Dtype \n",
      "---  ------         --------------  ----- \n",
      " 0   Gender         601 non-null    object\n",
      " 1   Married        611 non-null    object\n",
      " 2   Dependents     599 non-null    object\n",
      " 3   Education      614 non-null    object\n",
      " 4   Self_Employed  582 non-null    object\n",
      " 5   Property_Area  614 non-null    object\n",
      " 6   Loan_Status    614 non-null    object\n",
      "dtypes: object(7)\n",
      "memory usage: 33.7+ KB\n"
     ]
    }
   ],
   "source": [
    "df[cat_cols].info()"
   ]
  },
  {
   "cell_type": "code",
   "execution_count": 637,
   "id": "100e8be3-caa9-44a2-9e3b-f8446cd5eddb",
   "metadata": {},
   "outputs": [
    {
     "data": {
      "text/plain": [
       "<Axes: xlabel='Education', ylabel='count'>"
      ]
     },
     "execution_count": 637,
     "metadata": {},
     "output_type": "execute_result"
    },
    {
     "data": {
      "image/png": "[encoded data removed]",
      "text/plain": [
       "<Figure size 1000x1000 with 4 Axes>"
      ]
     },
     "metadata": {},
     "output_type": "display_data"
    }
   ],
   "source": [
    "plt.figure(figsize=(10,10))\n",
    "plt.subplot(2,2,1)\n",
    "sns.countplot(x='Gender',hue='Married', data=df[cat_cols])\n",
    "plt.subplot(2,2,2)\n",
    "sns.countplot(x='Gender', hue='Dependents', data=df[cat_cols])\n",
    "plt.subplot(2,2,3)\n",
    "sns.countplot(x='Gender', hue='Education', data=df[cat_cols])\n",
    "plt.subplot(2,2,4)\n",
    "sns.countplot(x='Education', hue='Property_Area', data=df[cat_cols])"
   ]
  },
  {
   "cell_type": "code",
   "execution_count": 638,
   "id": "88ff5245-1fa5-450a-91aa-33a7e4c24897",
   "metadata": {},
   "outputs": [],
   "source": [
    "# ПРИСТУПИМ К ПОДГОТОВКЕ ДАННЫХ"
   ]
  },
  {
   "cell_type": "code",
   "execution_count": 639,
   "id": "7b2a0275-03ee-4654-b720-8534c04932c9",
   "metadata": {},
   "outputs": [],
   "source": [
    "X = df.drop(columns='Loan_Status')\n",
    "y = df.Loan_Status\n",
    "X_train, X_test, y_train, y_test = train_test_split(X, y, test_size=0.2, random_state=42)"
   ]
  },
  {
   "cell_type": "code",
   "execution_count": 640,
   "id": "8c44860e-367c-4ef9-8bf2-ae231d616012",
   "metadata": {},
   "outputs": [],
   "source": [
    "# 1. Надо заполнить пропуски, при этом для категориальных признаков будем использовать моду\n",
    "# 2. Преобразовать категориальные признаки\n",
    "# 3. Далее масштабируем числовые признаки"
   ]
  },
  {
   "cell_type": "code",
   "execution_count": 641,
   "id": "2d0cd8cd-9898-4ca1-a64d-713418f9e42e",
   "metadata": {},
   "outputs": [],
   "source": [
    "# Создаем пайплайны для заполнения пропусков и преобразования категориальных признаков\n",
    "from sklearn.preprocessing import OneHotEncoder, StandardScaler\n",
    "from sklearn.impute import SimpleImputer\n",
    "from sklearn.pipeline import make_pipeline\n",
    "\n",
    "\n",
    "cat_transforms = make_pipeline(\n",
    "    SimpleImputer(strategy='most_frequent'),\n",
    "    OneHotEncoder(handle_unknown='ignore')\n",
    ")\n",
    "num_transforms = make_pipeline(\n",
    "    SimpleImputer(strategy='median'),\n",
    "    StandardScaler()\n",
    ")"
   ]
  },
  {
   "cell_type": "code",
   "execution_count": 642,
   "id": "181980a3-5833-4548-a261-3e9ce6a93202",
   "metadata": {},
   "outputs": [],
   "source": [
    "cat_cols=X.select_dtypes('object').columns.tolist()\n",
    "num_cols=X.select_dtypes(['float64', 'int64']).columns.tolist()"
   ]
  },
  {
   "cell_type": "code",
   "execution_count": 643,
   "id": "b5bcf166-b6e6-41df-9e38-b3f2e55abdf0",
   "metadata": {},
   "outputs": [
    {
     "data": {
      "text/plain": [
       "(491, 20)"
      ]
     },
     "execution_count": 643,
     "metadata": {},
     "output_type": "execute_result"
    }
   ],
   "source": [
    "from sklearn.compose import ColumnTransformer\n",
    "\n",
    "features = ColumnTransformer([\n",
    "    ('cat', cat_transforms, cat_cols),\n",
    "    ('num', num_transforms, num_cols)\n",
    "])\n",
    "\n",
    "features.fit_transform(X_train).shape"
   ]
  },
  {
   "cell_type": "code",
   "execution_count": 644,
   "id": "a48baf8c-293c-4466-87e0-fe23ca96decb",
   "metadata": {},
   "outputs": [
    {
     "name": "stdout",
     "output_type": "stream",
     "text": [
      "<class 'pandas.core.frame.DataFrame'>\n",
      "Index: 491 entries, 83 to 102\n",
      "Data columns (total 11 columns):\n",
      " #   Column             Non-Null Count  Dtype  \n",
      "---  ------             --------------  -----  \n",
      " 0   Gender             479 non-null    object \n",
      " 1   Married            490 non-null    object \n",
      " 2   Dependents         480 non-null    object \n",
      " 3   Education          491 non-null    object \n",
      " 4   Self_Employed      467 non-null    object \n",
      " 5   ApplicantIncome    491 non-null    int64  \n",
      " 6   CoapplicantIncome  491 non-null    float64\n",
      " 7   LoanAmount         475 non-null    float64\n",
      " 8   Loan_Amount_Term   479 non-null    float64\n",
      " 9   Credit_History     451 non-null    float64\n",
      " 10  Property_Area      491 non-null    object \n",
      "dtypes: float64(4), int64(1), object(6)\n",
      "memory usage: 46.0+ KB\n"
     ]
    }
   ],
   "source": [
    "X_train.info()"
   ]
  },
  {
   "cell_type": "code",
   "execution_count": 645,
   "id": "d6b637e1-758a-41b3-9e94-765611957c9e",
   "metadata": {},
   "outputs": [],
   "source": [
    "from sklearn.base import BaseEstimator, TransformerMixin\n",
    "\n",
    "\n",
    "class DataPipeline(BaseEstimator, TransformerMixin):\n",
    "    \n",
    "    def __init__(self, num_features, cat_features):\n",
    "        self.num_features = num_features\n",
    "        self.cat_features = cat_features \n",
    "\n",
    "        self.quans_99 = {}\n",
    "        self.medians = {}   \n",
    "        \n",
    "    def fit(self, df, y=None):\n",
    "        \n",
    "        for num_col in self.num_features:\n",
    "            q_99 = df[num_col].quantile(q=0.99)\n",
    "            self.quans_99[num_col] = q_99\n",
    "            self.medians[num_col] = df[num_col].median()\n",
    "\n",
    "        return self\n",
    "        \n",
    "    def transform(self, df, y=None):\n",
    "        \n",
    "        for num_col in self.num_features:\n",
    "            df.loc[df[num_col] > self.quans_99[num_col], num_col] = self.medians[num_col]\n",
    "\n",
    "        if 'Loan_ID' in df.columns:\n",
    "            df.drop(columns='Loan_ID', inplace=True)\n",
    "\n",
    "        return df"
   ]
  },
  {
   "cell_type": "code",
   "execution_count": 646,
   "id": "8e1ad884-6d9c-4a9b-b2f3-1990cd50da31",
   "metadata": {},
   "outputs": [],
   "source": [
    "pipe = make_pipeline(\n",
    "    DataPipeline(num_features=num_cols,\n",
    "                 cat_features=cat_cols),\n",
    "                 features\n",
    ")\n",
    "\n",
    "X_train = pipe.fit_transform(X_train)\n",
    "X_test = pipe.transform(X_test)"
   ]
  },
  {
   "cell_type": "code",
   "execution_count": 647,
   "id": "201cfdfe-fc06-4df9-9078-e9b4caa0646e",
   "metadata": {},
   "outputs": [
    {
     "data": {
      "text/plain": [
       "((491, 20), (123, 20))"
      ]
     },
     "execution_count": 647,
     "metadata": {},
     "output_type": "execute_result"
    }
   ],
   "source": [
    "X_train.shape, X_test.shape"
   ]
  },
  {
   "cell_type": "code",
   "execution_count": 648,
   "id": "90867e46-1038-4661-b881-f757a1bcaae2",
   "metadata": {},
   "outputs": [],
   "source": [
    "# Обучаем модель\n",
    "\n",
    "lr = LogisticRegression()\n",
    "lr.fit(X_train, y_train)\n",
    "\n",
    "pred_train = lr.predict(X_train)\n",
    "pred_test = lr.predict(X_test)"
   ]
  },
  {
   "cell_type": "code",
   "execution_count": 649,
   "id": "8d3d93ed-7700-40fd-93a4-462046e57892",
   "metadata": {},
   "outputs": [],
   "source": [
    "train_report = classification_report(pred_train, y_train)\n",
    "test_report = classification_report(pred_test, y_test)"
   ]
  },
  {
   "cell_type": "code",
   "execution_count": 650,
   "id": "b253588d-1d57-4f9f-8f92-ea93aaff1c52",
   "metadata": {},
   "outputs": [
    {
     "name": "stdout",
     "output_type": "stream",
     "text": [
      "Обучающая выборка c обработкой\n",
      "              precision    recall  f1-score   support\n",
      "\n",
      "           N       0.44      0.92      0.59        71\n",
      "           Y       0.98      0.80      0.88       420\n",
      "\n",
      "    accuracy                           0.82       491\n",
      "   macro avg       0.71      0.86      0.74       491\n",
      "weighted avg       0.90      0.82      0.84       491\n",
      "\n",
      "Тестовая выборка с обработкой\n",
      "              precision    recall  f1-score   support\n",
      "\n",
      "           N       0.42      0.90      0.57        20\n",
      "           Y       0.97      0.76      0.85       103\n",
      "\n",
      "    accuracy                           0.78       123\n",
      "   macro avg       0.70      0.83      0.71       123\n",
      "weighted avg       0.88      0.78      0.81       123\n",
      "\n"
     ]
    }
   ],
   "source": [
    "print('Обучающая выборка c обработкой')\n",
    "print(train_report)\n",
    "print('Тестовая выборка с обработкой')\n",
    "print(test_report)"
   ]
  },
  {
   "cell_type": "code",
   "execution_count": 651,
   "id": "de22b417-98af-496f-a06a-3b5524ad554d",
   "metadata": {},
   "outputs": [
    {
     "name": "stdout",
     "output_type": "stream",
     "text": [
      "Обучающая выборка без обработки\n",
      "              precision    recall  f1-score   support\n",
      "\n",
      "           N       0.44      0.92      0.59        71\n",
      "           Y       0.98      0.80      0.88       420\n",
      "\n",
      "    accuracy                           0.82       491\n",
      "   macro avg       0.71      0.86      0.74       491\n",
      "weighted avg       0.90      0.82      0.84       491\n",
      "\n",
      "Тестовая выборка без обработки\n",
      "              precision    recall  f1-score   support\n",
      "\n",
      "           N       0.42      0.95      0.58        19\n",
      "           Y       0.99      0.76      0.86       104\n",
      "\n",
      "    accuracy                           0.79       123\n",
      "   macro avg       0.70      0.85      0.72       123\n",
      "weighted avg       0.90      0.79      0.82       123\n",
      "\n"
     ]
    }
   ],
   "source": [
    "print('Обучающая выборка без обработки')\n",
    "print(train_report_base)\n",
    "print('Тестовая выборка без обработки')\n",
    "print(test_report_base)"
   ]
  },
  {
   "cell_type": "code",
   "execution_count": 652,
   "id": "04cef07c-b0dc-438b-89e6-61f248df83c8",
   "metadata": {},
   "outputs": [],
   "source": [
    "# ВЫВОДЫ:\n",
    "\n",
    "# 1. Постобработка не дала существенного увеличения качества модели тк метрики качества не изменились\n",
    "# 2. Вероятно влияние качественныхпризнаков на таргет очень незначительное\n",
    "# 3. Тем не менее модель:\n",
    "# не очень хорошо оцениват плохих заемщиков тк precision = 0.44, \n",
    "# те больше половины она посчитала как плохие, однако они фактически благонадежные\n",
    "# при этом она достаточно точно выявляет плохих заемщиков тк recall = 0.92\n",
    "# те среди реально плохих заемщиков она пропускает только 7% \n",
    "\n",
    "# в оценке благонадежных заемщиков модель более качественно предсказывает результаты тк  precision / recall = 0.98 / 0.80\n",
    "\n",
    "# тк категории заемщиков не сбалансированы то лучше опираться на критерии macro или weighted\n",
    "# но из-за того что в данных преобладает больше благонадежных заемщиков = 68.7%, то и weighted критерии получаются выше\n",
    "# поэтому оптимально использовать macro критерии тк они не учитывают вес категорий\n"
   ]
  }
 ],
 "metadata": {
  "kernelspec": {
   "display_name": "Python 3 (ipykernel)",
   "language": "python",
   "name": "python3"
  },
  "language_info": {
   "codemirror_mode": {
    "name": "ipython",
    "version": 3
   },
   "file_extension": ".py",
   "mimetype": "text/x-python",
   "name": "python",
   "nbconvert_exporter": "python",
   "pygments_lexer": "ipython3",
   "version": "3.11.9"
  }
 },
 "nbformat": 4,
 "nbformat_minor": 5
}
